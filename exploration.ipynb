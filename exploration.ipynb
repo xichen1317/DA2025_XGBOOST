{
 "cells": [
  {
   "cell_type": "code",
   "execution_count": null,
   "id": "fabe07ec",
   "metadata": {},
   "outputs": [
    {
     "ename": "FileNotFoundError",
     "evalue": "[Errno 2] No such file or directory: 'private_key.pem'",
     "output_type": "error",
     "traceback": [
      "\u001b[0;31m---------------------------------------------------------------------------\u001b[0m",
      "\u001b[0;31mFileNotFoundError\u001b[0m                         Traceback (most recent call last)",
      "Cell \u001b[0;32mIn[1], line 7\u001b[0m\n\u001b[1;32m      4\u001b[0m \u001b[38;5;28;01mimport\u001b[39;00m\u001b[38;5;250m \u001b[39m\u001b[38;5;21;01msnowflake\u001b[39;00m\u001b[38;5;21;01m.\u001b[39;00m\u001b[38;5;21;01mconnector\u001b[39;00m\n\u001b[1;32m      6\u001b[0m \u001b[38;5;66;03m# Load your uploaded private key\u001b[39;00m\n\u001b[0;32m----> 7\u001b[0m \u001b[38;5;28;01mwith\u001b[39;00m \u001b[38;5;28;43mopen\u001b[39;49m\u001b[43m(\u001b[49m\u001b[38;5;124;43m\"\u001b[39;49m\u001b[38;5;124;43mprivate_key.pem\u001b[39;49m\u001b[38;5;124;43m\"\u001b[39;49m\u001b[43m,\u001b[49m\u001b[43m \u001b[49m\u001b[38;5;124;43m\"\u001b[39;49m\u001b[38;5;124;43mrb\u001b[39;49m\u001b[38;5;124;43m\"\u001b[39;49m\u001b[43m)\u001b[49m \u001b[38;5;28;01mas\u001b[39;00m key_file:\n\u001b[1;32m      8\u001b[0m     p_key \u001b[38;5;241m=\u001b[39m serialization\u001b[38;5;241m.\u001b[39mload_pem_private_key(\n\u001b[1;32m      9\u001b[0m         key_file\u001b[38;5;241m.\u001b[39mread(),\n\u001b[1;32m     10\u001b[0m         password\u001b[38;5;241m=\u001b[39m\u001b[38;5;28;01mNone\u001b[39;00m  \u001b[38;5;66;03m# use password=b\"your_password\" if your key is encrypted\u001b[39;00m\n\u001b[1;32m     11\u001b[0m     )\n\u001b[1;32m     13\u001b[0m private_key_bytes \u001b[38;5;241m=\u001b[39m p_key\u001b[38;5;241m.\u001b[39mprivate_bytes(\n\u001b[1;32m     14\u001b[0m     encoding\u001b[38;5;241m=\u001b[39mserialization\u001b[38;5;241m.\u001b[39mEncoding\u001b[38;5;241m.\u001b[39mDER,\n\u001b[1;32m     15\u001b[0m     \u001b[38;5;28mformat\u001b[39m\u001b[38;5;241m=\u001b[39mserialization\u001b[38;5;241m.\u001b[39mPrivateFormat\u001b[38;5;241m.\u001b[39mPKCS8,\n\u001b[1;32m     16\u001b[0m     encryption_algorithm\u001b[38;5;241m=\u001b[39mserialization\u001b[38;5;241m.\u001b[39mNoEncryption()\n\u001b[1;32m     17\u001b[0m )\n",
      "File \u001b[0;32m/opt/anaconda3/envs/xgboost_env/lib/python3.10/site-packages/IPython/core/interactiveshell.py:324\u001b[0m, in \u001b[0;36m_modified_open\u001b[0;34m(file, *args, **kwargs)\u001b[0m\n\u001b[1;32m    317\u001b[0m \u001b[38;5;28;01mif\u001b[39;00m file \u001b[38;5;129;01min\u001b[39;00m {\u001b[38;5;241m0\u001b[39m, \u001b[38;5;241m1\u001b[39m, \u001b[38;5;241m2\u001b[39m}:\n\u001b[1;32m    318\u001b[0m     \u001b[38;5;28;01mraise\u001b[39;00m \u001b[38;5;167;01mValueError\u001b[39;00m(\n\u001b[1;32m    319\u001b[0m         \u001b[38;5;124mf\u001b[39m\u001b[38;5;124m\"\u001b[39m\u001b[38;5;124mIPython won\u001b[39m\u001b[38;5;124m'\u001b[39m\u001b[38;5;124mt let you open fd=\u001b[39m\u001b[38;5;132;01m{\u001b[39;00mfile\u001b[38;5;132;01m}\u001b[39;00m\u001b[38;5;124m by default \u001b[39m\u001b[38;5;124m\"\u001b[39m\n\u001b[1;32m    320\u001b[0m         \u001b[38;5;124m\"\u001b[39m\u001b[38;5;124mas it is likely to crash IPython. If you know what you are doing, \u001b[39m\u001b[38;5;124m\"\u001b[39m\n\u001b[1;32m    321\u001b[0m         \u001b[38;5;124m\"\u001b[39m\u001b[38;5;124myou can use builtins\u001b[39m\u001b[38;5;124m'\u001b[39m\u001b[38;5;124m open.\u001b[39m\u001b[38;5;124m\"\u001b[39m\n\u001b[1;32m    322\u001b[0m     )\n\u001b[0;32m--> 324\u001b[0m \u001b[38;5;28;01mreturn\u001b[39;00m \u001b[43mio_open\u001b[49m\u001b[43m(\u001b[49m\u001b[43mfile\u001b[49m\u001b[43m,\u001b[49m\u001b[43m \u001b[49m\u001b[38;5;241;43m*\u001b[39;49m\u001b[43margs\u001b[49m\u001b[43m,\u001b[49m\u001b[43m \u001b[49m\u001b[38;5;241;43m*\u001b[39;49m\u001b[38;5;241;43m*\u001b[39;49m\u001b[43mkwargs\u001b[49m\u001b[43m)\u001b[49m\n",
      "\u001b[0;31mFileNotFoundError\u001b[0m: [Errno 2] No such file or directory: 'private_key.pem'"
     ]
    }
   ],
   "source": [
    "# !pip install snowflake-connector-python cryptography --quiet\n",
    "\n",
    "from cryptography.hazmat.primitives import serialization\n",
    "import snowflake.connector\n",
    "\n",
    "# Load your uploaded private key\n",
    "with open(\"private_key.pem\", \"rb\") as key_file:\n",
    "    p_key = serialization.load_pem_private_key(\n",
    "        key_file.read(),\n",
    "        password=None  # use password=b\"your_password\" if your key is encrypted\n",
    "    )\n",
    "\n",
    "private_key_bytes = p_key.private_bytes(\n",
    "    encoding=serialization.Encoding.DER,\n",
    "    format=serialization.PrivateFormat.PKCS8,\n",
    "    encryption_algorithm=serialization.NoEncryption()\n",
    ")\n",
    "\n",
    "conn = snowflake.connector.connect(\n",
    "    account = \"MARS-MARSSNACKINGDIVISION_US\",\n",
    "    user = \"xi.chen3@effem.com\",\n",
    "    role = \"SF_MW_HUMAN_INTELLIGENCE_DEVELOPER_WRITE\",\n",
    "    warehouse = \"MW_HUMAN_INTELLIGENCE_DATASCIENCE_WH\",\n",
    "    database = \"MW_DATALAKE_HUMAN_INTELLIGENCE\",\n",
    "    schema = \"PERSISTENT\",\n",
    "    private_key = private_key_bytes"
   ]
  }
 ],
 "metadata": {
  "kernelspec": {
   "display_name": "xgboost_env",
   "language": "python",
   "name": "python3"
  },
  "language_info": {
   "codemirror_mode": {
    "name": "ipython",
    "version": 3
   },
   "file_extension": ".py",
   "mimetype": "text/x-python",
   "name": "python",
   "nbconvert_exporter": "python",
   "pygments_lexer": "ipython3",
   "version": "3.10.18"
  }
 },
 "nbformat": 4,
 "nbformat_minor": 5
}
